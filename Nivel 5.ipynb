{
  "nbformat": 4,
  "nbformat_minor": 0,
  "metadata": {
    "colab": {
      "provenance": [],
      "include_colab_link": true
    },
    "kernelspec": {
      "name": "python3",
      "display_name": "Python 3"
    },
    "language_info": {
      "name": "python"
    }
  },
  "cells": [
    {
      "cell_type": "markdown",
      "metadata": {
        "id": "view-in-github",
        "colab_type": "text"
      },
      "source": [
        "<a href=\"https://colab.research.google.com/github/Welsete/Faculdade-Estacio-Mundo-1/blob/main/Nivel%205.ipynb\" target=\"_parent\"><img src=\"https://colab.research.google.com/assets/colab-badge.svg\" alt=\"Open In Colab\"/></a>"
      ]
    },
    {
      "cell_type": "markdown",
      "source": [
        "# <img src=\"https://encrypted-tbn0.gstatic.com/images?q=tbn:ANd9GcQUV0u0upC5Cf1iAfu4NglyUXt7QeTwt69QrQnw_Ygh&s\">  \n",
        "# **POLO SÃO BERNARDO DO CAMPO - SP - DESENVOLVIMENTO FULL STACK.**\n",
        "# Turma 2022-03 Mundo 1 - Nível 5.\n",
        "Aluno: Wellerson Tavares Cordeiro -\n",
        "Matricula: 202209298757\n",
        "\n",
        "\n",
        "\n",
        "\n"
      ],
      "metadata": {
        "id": "IEpgnzJiE6ad"
      }
    },
    {
      "cell_type": "markdown",
      "source": [
        "# Objetivo:\n",
        "Implementar um programa para gerar dados contendo nomes e pontuações de pessoas. Escreva em arquivos, recupere dados de arquivos, visualize os dados de pontuação das pessoas em histogramas e nuvens de palavras."
      ],
      "metadata": {
        "id": "7MT0DUaJdGvz"
      }
    },
    {
      "cell_type": "markdown",
      "source": [
        "## Trabalho nivel 5 mundo 1."
      ],
      "metadata": {
        "id": "qda2TYt0FNgu"
      }
    },
    {
      "cell_type": "code",
      "source": [
        "#@title Instalação das Bibliotecas\n",
        "#Instalação das Bibliotecas:\n",
        "!pip install matplotlib\n",
        "!pip install faker\n",
        "!pip install num2words\n",
        "!pip install wordcloud"
      ],
      "metadata": {
        "id": "gDuRYaJK4cDL"
      },
      "execution_count": null,
      "outputs": []
    },
    {
      "cell_type": "code",
      "source": [
        "#@title Código:\n",
        "from matplotlib import pyplot as plt\n",
        "from faker import Faker\n",
        "from random import randint\n",
        "from time import sleep\n",
        "import pandas\n",
        "from num2words import num2words\n",
        "from wordcloud import WordCloud\n",
        "\n",
        "# Criação de listas que serão usadas\n",
        "leitura = []\n",
        "nomes = []\n",
        "pont = []\n",
        "num = []\n",
        "\n",
        "# Quantos nomes e números deverão ser criados aleatóriamente\n",
        "n = int(input('Quantos nomes gostaria de gerar? '))\n",
        "print('Gerando nomes e números aleatórios...')\n",
        "\n",
        "# Gerar nomes e números aleatórios dentro de um arquivo txt\n",
        "fake = Faker('pt_BR')\n",
        "with open('dados.txt', 'w') as arquivo:\n",
        "    for c in range(0, n):\n",
        "        arquivo.write(f'{fake.name()},{str(randint(1, 10))},')\n",
        "\n",
        "# Ler arquivo txt e lançar em uma lista para ser manipulado\n",
        "with open('dados.txt', 'r') as arquivo:\n",
        "    leitura = arquivo.read().split(',')\n",
        "leitura.pop()  # Remover o último item da lista sendo um lixo gerado pela leitura\n",
        "\n",
        "# Lançar nas listas separadas de nome e números (pontuações)\n",
        "for c in range(0, (n*2), 2):\n",
        "    nomes.append(leitura[c])\n",
        "    pont.append(leitura[c + 1])\n",
        "\n",
        "\n",
        "# Escrever o número por extenso e lançar em uma lista\n",
        "for c in pont:\n",
        "    num.append(num2words(c, lang='pt-br').title())\n",
        "\n",
        "# Gerar uma string única para o wordcloud gerar a núvem\n",
        "palavras = \" \".join(p for p in num)\n",
        "wordcloud = WordCloud(background_color=\"grey\", width=800, height=400).generate(palavras)\n",
        "wordcloud.to_file(\"Nuvem de palavras.jpg\")\n",
        "\n",
        "# Informar itens gerados\n",
        "sleep(1)\n",
        "print('Lista completa gerada:')\n",
        "print(leitura)\n",
        "sleep(0.5)\n",
        "print('Nomes da lista gerada:')\n",
        "print(nomes)\n",
        "sleep(0.5)\n",
        "print('Posição equivalente dos nomes gerados:')\n",
        "print(pont)\n",
        "sleep(0.5)\n",
        "print('Número posição por extenso:')\n",
        "print(num)\n",
        "\n",
        "# Organizar a lista pont\n",
        "pont.sort()\n",
        "pont.sort(key=len)\n",
        "\n",
        "# Gerar gráficos\n",
        "plt.subplot(2, 1, 1)\n",
        "bbin = len(pandas.unique(pont))\n",
        "plt.hist(pont, bbin, density=True, facecolor='blue', label='Histograma das Pontuações')\n",
        "plt.xlabel('Pontuações')\n",
        "plt.ylabel('Probabilidade')\n",
        "plt.grid(True)\n",
        "plt.subplot(2, 1, 2)\n",
        "plt.imshow(wordcloud)\n",
        "plt.axis(\"off\")\n",
        "plt.tight_layout(pad=1)\n",
        "plt.show()"
      ],
      "metadata": {
        "id": "JT15hhj365Dm"
      },
      "execution_count": null,
      "outputs": []
    },
    {
      "cell_type": "markdown",
      "source": [
        "#Análise e conclusão.\n",
        "### **Qual a importância de manipular arquivos de texto?**\n",
        "\n",
        "#### **R:** É de grande importância para qualquer desenvolvedor saber manipular arquivos, seja para fazer backups, consumir uma lista de uma planilha ou por qualquer outro motivo. Consequentemente, na maioria das linguagens de programação existem facilidades para essa manipulação.\n",
        "\n",
        "# **Qual a importância de visualizar os dados em um histograma?**\n",
        "\n",
        "#### **R:** Facilitar a visualização de grandes quantidades de dados.\n",
        "\n",
        "# **O que significa a visualização por nuvem de palavras?**\n",
        "\n",
        "#### **R:** A nuvem de palavras é uma representação visual das palavras e frases mais comuns das respostas abertas.\n"
      ],
      "metadata": {
        "id": "mBZhzs0fEbBm"
      }
    }
  ]
}